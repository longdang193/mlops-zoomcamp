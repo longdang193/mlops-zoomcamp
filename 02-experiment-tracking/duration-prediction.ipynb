{
 "cells": [
  {
   "cell_type": "markdown",
   "id": "72dfbd70",
   "metadata": {},
   "source": [
    "# NYC Taxi Duration Prediction — Experiment Tracking with MLflow\n",
    "\n",
    "This notebook trains and evaluates models to predict NYC taxi trip duration, while tracking experiments with MLflow.\n",
    "\n",
    "- Objective: predict trip duration (minutes)\n",
    "- Dataset: NYC Taxi (sample months)\n",
    "- Stack: pandas, scikit-learn, XGBoost, Hyperopt, MLflow\n",
    "\n",
    "Sections\n",
    "- Environment and Imports\n",
    "- MLflow Tracking Setup\n",
    "- Data Reading Utility\n",
    "- Load Train and Validation Data\n",
    "- Feature Engineering\n",
    "- Vectorization (DictVectorizer)\n",
    "- Define Target Variable\n",
    "- Baseline Linear Regression (optional)\n",
    "- Hyperparameter Tuning with XGBoost and Hyperopt\n",
    "- Train final XGBoost model and log to MLflow\n",
    "- Quick Model Comparisons with scikit-learn (autolog)\n",
    "- Load Logged Model and Predict\n"
   ]
  },
  {
   "cell_type": "markdown",
   "id": "cf857cea",
   "metadata": {},
   "source": [
    "## Environment and Imports\n",
    "\n",
    "- Check Python version\n",
    "- Import core libraries for data processing, modeling, and tracking\n"
   ]
  },
  {
   "cell_type": "code",
   "execution_count": null,
   "id": "b2bd82d7",
   "metadata": {},
   "outputs": [],
   "source": [
    "!python -V"
   ]
  },
  {
   "cell_type": "code",
   "execution_count": null,
   "id": "41062d8a",
   "metadata": {},
   "outputs": [],
   "source": [
    "import pandas as pd\n",
    "import numpy as np"
   ]
  },
  {
   "cell_type": "code",
   "execution_count": null,
   "id": "c984c564",
   "metadata": {},
   "outputs": [],
   "source": [
    "import pickle"
   ]
  },
  {
   "cell_type": "code",
   "execution_count": null,
   "id": "4add538c",
   "metadata": {},
   "outputs": [],
   "source": [
    "import seaborn as sns\n",
    "import matplotlib.pyplot as plt"
   ]
  },
  {
   "cell_type": "code",
   "execution_count": null,
   "id": "8b135c2b",
   "metadata": {},
   "outputs": [],
   "source": [
    "from sklearn.feature_extraction import DictVectorizer\n",
    "from sklearn.linear_model import LinearRegression\n",
    "from sklearn.linear_model import Lasso\n",
    "from sklearn.linear_model import Ridge\n",
    "\n",
    "from sklearn.metrics import mean_squared_error"
   ]
  },
  {
   "cell_type": "markdown",
   "id": "f8a1b535",
   "metadata": {},
   "source": [
    "### MLflow Tracking Setup\n",
    "\n",
    "- Configure tracking URI and experiment name\n",
    "- Ensure the tracking backend is available (e.g., SQLite file)\n"
   ]
  },
  {
   "cell_type": "code",
   "execution_count": null,
   "id": "1464985f",
   "metadata": {},
   "outputs": [],
   "source": [
    "import mlflow\n",
    "\n",
    "mlflow.set_tracking_uri(\"sqlite:///mlflow.db\")\n",
    "mlflow.set_experiment(\"nyc-taxi-experiment\")"
   ]
  },
  {
   "cell_type": "markdown",
   "id": "255a4f55",
   "metadata": {},
   "source": [
    "The code above sets up MLflow for experiment tracking in this notebook.\n",
    "\n",
    "- It imports the `mlflow` package.\n",
    "- It configures the tracking URI so that all experiment information is stored in a local SQLite database (`mlflow.db`).\n",
    "- It specifies the name of the experiment (\"nyc-taxi-experiment\").\n",
    "- If this experiment doesn't exist already, MLflow will create it automatically.\n",
    "\n",
    "This setup makes it possible to log, compare, and reproduce experiments efficiently."
   ]
  },
  {
   "cell_type": "markdown",
   "id": "e968d09f",
   "metadata": {},
   "source": [
    "### Data Reading Utility\n",
    "\n",
    "- Load parquet files with selected columns\n",
    "- Compute trip duration and filter outliers (1–60 minutes)\n",
    "- Cast categorical columns to strings\n"
   ]
  },
  {
   "cell_type": "code",
   "execution_count": null,
   "id": "62a6e222",
   "metadata": {},
   "outputs": [],
   "source": [
    "CATEGORICAL = ['PULocationID', 'DOLocationID']\n",
    "NEEDED_COLS = CATEGORICAL + ['tpep_pickup_datetime', 'tpep_dropoff_datetime', 'trip_distance']\n",
    "\n",
    "def read_dataframe(filename):\n",
    "    df = pd.read_parquet(filename, columns=NEEDED_COLS)\n",
    "\n",
    "    df['tpep_pickup_datetime'] = pd.to_datetime(df['tpep_pickup_datetime'])\n",
    "    df['tpep_dropoff_datetime'] = pd.to_datetime(df['tpep_dropoff_datetime'])\n",
    "\n",
    "    df['duration'] = (df['tpep_dropoff_datetime'] - df['tpep_pickup_datetime']).dt.total_seconds() / 60\n",
    "    df = df[(df.duration >= 1) & (df.duration <= 60)].copy()\n",
    "\n",
    "    df[CATEGORICAL] = df[CATEGORICAL].astype(str)\n",
    "    return df\n"
   ]
  },
  {
   "cell_type": "markdown",
   "id": "dc0d5da5",
   "metadata": {},
   "source": [
    "### Load Train and Validation Data\n",
    "\n",
    "- Read January as training and February as validation\n",
    "- Apply the same preprocessing for both\n"
   ]
  },
  {
   "cell_type": "code",
   "execution_count": null,
   "id": "8029eba0",
   "metadata": {},
   "outputs": [],
   "source": [
    "df_train = read_dataframe('/workspaces/mlops-zoomcamp/data/yellow_tripdata_2021-01.parquet')\n",
    "df_val = read_dataframe('/workspaces/mlops-zoomcamp/data/yellow_tripdata_2021-02.parquet')"
   ]
  },
  {
   "cell_type": "code",
   "execution_count": null,
   "id": "7b82eb33",
   "metadata": {},
   "outputs": [],
   "source": [
    "# df_train.head()"
   ]
  },
  {
   "cell_type": "code",
   "execution_count": null,
   "id": "f6f2f0eb",
   "metadata": {},
   "outputs": [],
   "source": [
    "# len(df_train), len(df_val)"
   ]
  },
  {
   "cell_type": "markdown",
   "id": "c8b68eec",
   "metadata": {},
   "source": [
    "### Feature Engineering\n",
    "\n",
    "- Create `PU_DO` combined categorical feature\n",
    "- Keep distance as a numerical feature\n"
   ]
  },
  {
   "cell_type": "code",
   "execution_count": null,
   "id": "951d51ef",
   "metadata": {},
   "outputs": [],
   "source": [
    "# Create a new feature 'PU_DO' that combines pickup and dropoff location IDs.\n",
    "# This represents a specific route or trip pattern (e.g., pickup from zone 142 to dropoff at zone 43).\n",
    "df_train['PU_DO'] = df_train['PULocationID'] + '_' + df_train['DOLocationID']\n",
    "df_val['PU_DO'] = df_val['PULocationID'] + '_' + df_val['DOLocationID']"
   ]
  },
  {
   "cell_type": "markdown",
   "id": "7887bc9e",
   "metadata": {},
   "source": [
    "#### Vectorization (DictVectorizer)\n",
    "\n",
    "- Convert feature dicts into sparse matrices\n",
    "- Fit on training data; transform validation with the same `DictVectorizer`\n"
   ]
  },
  {
   "cell_type": "code",
   "execution_count": null,
   "id": "c5cbfc25",
   "metadata": {},
   "outputs": [],
   "source": [
    "categorical = ['PU_DO'] #'PULocationID', 'DOLocationID']\n",
    "numerical = ['trip_distance']\n",
    "\n",
    "dv = DictVectorizer()\n",
    "\n",
    "train_dicts = df_train[categorical + numerical].to_dict(orient='records')\n",
    "X_train = dv.fit_transform(train_dicts)\n",
    "\n",
    "val_dicts = df_val[categorical + numerical].to_dict(orient='records')\n",
    "X_val = dv.transform(val_dicts)"
   ]
  },
  {
   "cell_type": "markdown",
   "id": "6f9ddbe2",
   "metadata": {},
   "source": [
    "### Define Target Variable\n",
    "\n",
    "- Predict the trip `duration` in minutes\n",
    "- Split labels for train/validation\n"
   ]
  },
  {
   "cell_type": "code",
   "execution_count": null,
   "id": "1e9fb68b",
   "metadata": {},
   "outputs": [],
   "source": [
    "target = 'duration'\n",
    "y_train = df_train[target].values\n",
    "y_val = df_val[target].values"
   ]
  },
  {
   "cell_type": "markdown",
   "id": "06610f1a",
   "metadata": {},
   "source": [
    "### Baseline Linear Regression (optional)\n",
    "\n",
    "- Fit a simple baseline (e.g., Linear or Lasso/Ridge)\n",
    "- Compute RMSE on validation set\n"
   ]
  },
  {
   "cell_type": "code",
   "execution_count": null,
   "id": "429e2394",
   "metadata": {},
   "outputs": [],
   "source": [
    "# lr = LinearRegression()\n",
    "# lr.fit(X_train, y_train)\n",
    "\n",
    "# y_pred = lr.predict(X_val)\n",
    "\n",
    "# np.sqrt(mean_squared_error(y_val, y_pred))"
   ]
  },
  {
   "cell_type": "code",
   "execution_count": null,
   "id": "22bf6f8b",
   "metadata": {},
   "outputs": [],
   "source": [
    "# with open('models/lin_reg.bin', 'wb') as f_out:\n",
    "#     pickle.dump((dv, lr), f_out)"
   ]
  },
  {
   "cell_type": "markdown",
   "id": "d17e3936",
   "metadata": {},
   "source": [
    "### Track Linear Model with MLflow (example)\n",
    "\n",
    "- Demonstrates manual logging: params, metrics, artifacts\n",
    "- Useful pattern even when autolog is disabled\n"
   ]
  },
  {
   "cell_type": "code",
   "execution_count": null,
   "id": "a4999b94",
   "metadata": {},
   "outputs": [],
   "source": [
    "# # Start a new MLflow run — everything logged inside this block \n",
    "# # will be grouped under the same experiment run in the MLflow UI.\n",
    "# with mlflow.start_run():\n",
    "\n",
    "#     # Tag this run with metadata — useful for filtering or identifying runs later.\n",
    "#     mlflow.set_tag(\"developer\", \"cristian\")\n",
    "\n",
    "#     # Log input data paths as parameters to keep track of which datasets were used for training and validation.\n",
    "#     mlflow.log_param(\"train-data-path\", \"./data/yellow_tripdata_2021-01.parquet\")\n",
    "#     mlflow.log_param(\"valid-data-path\", \"./data/yellow_tripdata_2021-02.parquet\")\n",
    "\n",
    "#     # Define and log the model hyperparameter 'alpha' for the Lasso regression.\n",
    "#     alpha = 0.1\n",
    "#     mlflow.log_param(\"alpha\", alpha)\n",
    "    \n",
    "#     # Initialize and train the Lasso regression model using the training data.\n",
    "#     lr = Lasso(alpha)\n",
    "#     lr.fit(X_train, y_train)\n",
    "\n",
    "#     # Make predictions on the validation dataset.\n",
    "#     y_pred = lr.predict(X_val)\n",
    "\n",
    "#     # Calculate the Root Mean Squared Error (RMSE) to evaluate model performance.\n",
    "#     rmse = np.sqrt(mean_squared_error(y_val, y_pred))\n",
    "\n",
    "#     # Log the RMSE metric so it appears in MLflow for comparison across runs.\n",
    "#     mlflow.log_metric(\"rmse\", rmse)\n",
    "\n",
    "#     # Log the trained model file as an artifact — this saves the model binary in the MLflow run directory.\n",
    "#     # 'artifact_path' defines the subfolder within the run's artifact storage.\n",
    "#     mlflow.log_artifact(local_path=\"models/lin_reg.bin\", artifact_path=\"models_pickle\")"
   ]
  },
  {
   "cell_type": "code",
   "execution_count": null,
   "id": "cc59e577",
   "metadata": {},
   "outputs": [],
   "source": [
    "# # Check current tracking URI\n",
    "# print(\"Tracking URI:\", mlflow.get_tracking_uri())\n",
    "\n",
    "# # List all experiments\n",
    "# experiments = mlflow.search_experiments()\n",
    "# for exp in experiments:\n",
    "#     print(f\"Experiment: {exp.name} (ID: {exp.experiment_id})\")\n",
    "\n",
    "# # List runs for a specific experiment\n",
    "# runs = mlflow.search_runs(experiment_ids=[\"1\"])\n",
    "# print(runs[['run_id', 'metrics.rmse', 'params.alpha']].head())"
   ]
  },
  {
   "cell_type": "markdown",
   "id": "218f370f",
   "metadata": {},
   "source": [
    "## Hyperparameter Tuning with MLflow and Hyperopt"
   ]
  },
  {
   "cell_type": "markdown",
   "id": "fc99442c",
   "metadata": {},
   "source": [
    "### XGBoost and Hyperopt Imports\n",
    "\n",
    "- Bring in XGBoost for gradient-boosted trees\n",
    "- Use Hyperopt for hyperparameter search\n",
    "- Keep MLflow tracking enabled\n"
   ]
  },
  {
   "cell_type": "code",
   "execution_count": null,
   "id": "5f56e97b",
   "metadata": {},
   "outputs": [],
   "source": [
    "import xgboost as xgb"
   ]
  },
  {
   "cell_type": "code",
   "execution_count": null,
   "id": "907dc6a2",
   "metadata": {},
   "outputs": [],
   "source": [
    "from hyperopt import fmin, tpe, hp, STATUS_OK, Trials\n",
    "from hyperopt.pyll import scope"
   ]
  },
  {
   "cell_type": "markdown",
   "id": "814279fb",
   "metadata": {},
   "source": [
    "## Prepare DMatrix for XGBoost\n",
    "\n",
    "- Convert sparse/scipy matrices to XGBoost `DMatrix`\n",
    "- This improves training speed and memory usage\n"
   ]
  },
  {
   "cell_type": "code",
   "execution_count": null,
   "id": "091ab328",
   "metadata": {},
   "outputs": [],
   "source": [
    "train = xgb.DMatrix(X_train, label=y_train)\n",
    "valid = xgb.DMatrix(X_val, label=y_val)"
   ]
  },
  {
   "cell_type": "markdown",
   "id": "0136d02c",
   "metadata": {},
   "source": [
    "## Define the objective function that Hyperopt will minimize"
   ]
  },
  {
   "cell_type": "code",
   "execution_count": null,
   "id": "c2d84b26",
   "metadata": {},
   "outputs": [],
   "source": [
    "# # Define the objective function that Hyperopt will minimize.\n",
    "# def objective(params):\n",
    "#     with mlflow.start_run():\n",
    "#         mlflow.set_tag(\"model\", \"xgboost\")\n",
    "#         mlflow.log_params(params)\n",
    "\n",
    "#         # Train the XGBoost model with the given parameters.\n",
    "#         # 'dtrain' is the training data matrix, 'num_boost_round' is the number of boosting rounds,\n",
    "#         # 'evals' is a list of tuples containing the validation data and a name for the evaluation,\n",
    "#         # 'early_stopping_rounds' is the number of rounds to wait before stopping if the validation score doesn't improve.\n",
    "#         booster = xgb.train(\n",
    "#             params=params,\n",
    "#             dtrain=train,\n",
    "#             num_boost_round=100,\n",
    "#             evals=[(valid, 'validation')],\n",
    "#             early_stopping_rounds=20\n",
    "#         )\n",
    "#         y_pred = booster.predict(valid)\n",
    "#         rmse = np.sqrt(mean_squared_error(y_val, y_pred))\n",
    "#         mlflow.log_metric(\"rmse\", rmse)\n",
    "\n",
    "#     return {'loss': rmse, 'status': STATUS_OK}"
   ]
  },
  {
   "cell_type": "markdown",
   "id": "0e6387d0",
   "metadata": {},
   "source": [
    "## Define the hyperparameter search space"
   ]
  },
  {
   "cell_type": "code",
   "execution_count": null,
   "id": "460e11f4",
   "metadata": {},
   "outputs": [],
   "source": [
    "# search_space = {\n",
    "#     'max_depth': scope.int(hp.quniform('max_depth', 4, 50, 1)),\n",
    "#     'learning_rate': hp.loguniform('learning_rate', -3, 0),\n",
    "#     'reg_alpha': hp.loguniform('reg_alpha', -5, -1),\n",
    "#     'reg_lambda': hp.loguniform('reg_lambda', -6, -1),\n",
    "#     'min_child_weight': hp.loguniform('min_child_weight', -1, 3),\n",
    "#     'objective': 'reg:squarederror',\n",
    "#     'seed': 42\n",
    "# }"
   ]
  },
  {
   "cell_type": "markdown",
   "id": "d12f56d2",
   "metadata": {},
   "source": [
    "## Hyperparameter Optimization with Hyperopt"
   ]
  },
  {
   "cell_type": "code",
   "execution_count": null,
   "id": "6b1f77f5",
   "metadata": {},
   "outputs": [],
   "source": [
    "# # Use Hyperopt to find the best hyperparameters for the XGBoost model.\n",
    "# best_result = fmin(\n",
    "#     fn=objective,          # Objective function to minimize (returns validation RMSE)\n",
    "#     space=search_space,    # The hyperparameter space defined above\n",
    "#     algo=tpe.suggest,      # TPE algorithm: Bayesian optimizer that models p(x|y)\n",
    "#     max_evals=10,          # Number of trials (iterations) to perform\n",
    "#     trials=Trials()        # Object to store details of each run (params, loss, status)\n",
    "# )"
   ]
  },
  {
   "cell_type": "markdown",
   "id": "6346a0ca",
   "metadata": {},
   "source": [
    "## Train final XGBoost model and log to MLflow\n",
    "\n",
    "- Use best params to train with early stopping\n",
    "- Log parameters, metrics, and artifacts (preprocessor, model)\n",
    "- Save model with MLflow XGBoost flavor\n"
   ]
  },
  {
   "cell_type": "code",
   "execution_count": null,
   "id": "fc4d5283",
   "metadata": {},
   "outputs": [],
   "source": [
    "# Disable XGBoost autologging to manually control what gets logged to MLflow\n",
    "# (autologging would otherwise record parameters, metrics, and models automatically)\n",
    "mlflow.xgboost.autolog(disable=True)"
   ]
  },
  {
   "cell_type": "code",
   "execution_count": null,
   "id": "0e8cd729",
   "metadata": {},
   "outputs": [],
   "source": [
    "# from mlflow.models import infer_signature\n",
    "\n",
    "# with mlflow.start_run():\n",
    "    \n",
    "#     # Convert NumPy arrays or DataFrames into XGBoost's optimized DMatrix format\n",
    "#     # This structure improves memory efficiency and training performance    \n",
    "#     train = xgb.DMatrix(X_train, label=y_train)\n",
    "#     valid = xgb.DMatrix(X_val, label=y_val)\n",
    "\n",
    "#     # Define the best hyperparameters found from hyperparameter tuning (e.g., Hyperopt)\n",
    "#     # These control model complexity, learning rate, regularization, and random seed\n",
    "#     best_params = {\n",
    "#         'learning_rate': 0.09585355369315604,\n",
    "#         'max_depth': 30,\n",
    "#         'min_child_weight': 1.060597050922164,\n",
    "#         'objective': 'reg:squarederror',\n",
    "#         'reg_alpha': 0.018060244040060163,\n",
    "#         'reg_lambda': 0.011658731377413597,\n",
    "#         'seed': 42\n",
    "#     }\n",
    "\n",
    "#     # Log all chosen hyperparameters to MLflow for reproducibility\n",
    "#     mlflow.log_params(best_params)\n",
    "\n",
    "#     # Train the XGBoost model using the defined parameters\n",
    "#     # - num_boost_round: maximum number of boosting iterations\n",
    "#     # - evals: list of evaluation datasets (train/validation) to track performance\n",
    "#     # - early_stopping_rounds: stop training if validation metric doesn’t improve for 20 rounds\n",
    "#     booster = xgb.train(\n",
    "#         params=best_params,\n",
    "#         dtrain=train,\n",
    "#         num_boost_round=100,\n",
    "#         evals=[(valid, 'validation')],\n",
    "#         early_stopping_rounds=20\n",
    "#     )\n",
    "\n",
    "#     # Make predictions on the validation dataset\n",
    "#     y_pred = booster.predict(valid)\n",
    "\n",
    "#     # Calculate the Root Mean Squared Error (RMSE) to evaluate model performance\n",
    "#     rmse = np.sqrt(mean_squared_error(y_val, y_pred))\n",
    "\n",
    "#     # Log the RMSE metric so it appears in MLflow for comparison across runs\n",
    "#     mlflow.log_metric(\"rmse\", rmse)\n",
    "\n",
    "#     # Save the preprocessor (feature transformation model) as a pickle file\n",
    "#     with open(\"models/preprocessor.b\", \"wb\") as f_out:\n",
    "#         pickle.dump(dv, f_out)\n",
    "\n",
    "#     # Log the preprocessor as an artifact in MLflow\n",
    "#     mlflow.log_artifact(\"models/preprocessor.b\", artifact_path=\"preprocessor\")\n",
    "\n",
    "#     # The signature defines the input and output schema for the model\n",
    "#     signature = infer_signature(X_val, y_pred)\n",
    "\n",
    "#     # Log the trained XGBoost model in MLflow with signature and input example\n",
    "#     input_example = X_val[:3]\n",
    "#     mlflow.xgboost.log_model(\n",
    "#         booster, \n",
    "#         artifact_path=\"models_mlflow\",  # Path within the artifacts folder\n",
    "#         input_example=input_example\n",
    "#     )"
   ]
  },
  {
   "cell_type": "markdown",
   "id": "e26101f5",
   "metadata": {},
   "source": [
    "## Quick Model Comparisons with scikit-learn (autolog)\n",
    "\n",
    "- Enable MLflow autologging for scikit-learn\n",
    "- Train a couple of lightweight baseline models\n",
    "- Compare validation RMSE across runs\n"
   ]
  },
  {
   "cell_type": "code",
   "execution_count": null,
   "id": "76068a93",
   "metadata": {},
   "outputs": [],
   "source": [
    "from sklearn.ensemble import RandomForestRegressor, GradientBoostingRegressor, ExtraTreesRegressor\n",
    "from sklearn.svm import LinearSVR\n",
    "\n",
    "for cls in (RandomForestRegressor, GradientBoostingRegressor, ExtraTreesRegressor, LinearSVR):\n",
    "    m = cls()\n",
    "    print(cls.__name__, m.get_params())\n"
   ]
  },
  {
   "cell_type": "code",
   "execution_count": null,
   "id": "87614b82",
   "metadata": {},
   "outputs": [],
   "source": [
    "# from sklearn.ensemble import RandomForestRegressor, GradientBoostingRegressor, ExtraTreesRegressor\n",
    "# from sklearn.svm import LinearSVR\n",
    "\n",
    "# # Enable automatic MLflow logging for all scikit-learn models\n",
    "# # This logs:\n",
    "# #   - Model parameters (e.g., n_estimators, max_depth)\n",
    "# #   - Evaluation metrics (e.g., RMSE)\n",
    "# #   - Trained model artifacts (serialized .pkl files)\n",
    "# #   - Model signature and environment info (for reproducibility)\n",
    "# mlflow.sklearn.autolog()\n",
    "\n",
    "# # Loop through multiple model classes to train and compare them easily\n",
    "# # Each iteration will:\n",
    "# #   1. Start a new MLflow run\n",
    "# #   2. Train one model\n",
    "# #   3. Evaluate it\n",
    "# #   4. Log results to MLflow automatically\n",
    "# for model_class in (RandomForestRegressor, GradientBoostingRegressor, ExtraTreesRegressor, LinearSVR):\n",
    "\n",
    "#     with mlflow.start_run():\n",
    "        \n",
    "#         # Log paths to the training and validation datasets for reproducibility\n",
    "#         mlflow.log_param(\"train-data-path\", \"./data/green_tripdata_2022-01.parquet\")\n",
    "#         mlflow.log_param(\"valid-data-path\", \"./data/green_tripdata_2022-02.parquet\")\n",
    "\n",
    "#         # Log the preprocessor as an artifact in MLflow\n",
    "#         mlflow.log_artifact(\"models/preprocessor.b\", artifact_path=\"preprocessor\")\n",
    "\n",
    "#         # Initialize and train the model\n",
    "#         mlmodel = model_class()\n",
    "#         mlmodel.fit(X_train, y_train)\n",
    "\n",
    "#         # Make predictions on the validation dataset\n",
    "#         y_pred = mlmodel.predict(X_val)\n",
    "#         rmse = np.sqrt(mean_squared_error(y_val, y_pred))\n",
    "\n",
    "#         # Log the RMSE metric to MLflow for comparison across runs\n",
    "#         mlflow.log_metric(\"rmse\", rmse)"
   ]
  },
  {
   "cell_type": "code",
   "execution_count": null,
   "id": "16bef9a6",
   "metadata": {},
   "outputs": [],
   "source": [
    "import numpy as np\n",
    "import mlflow\n",
    "from sklearn.metrics import mean_squared_error\n",
    "from sklearn.ensemble import GradientBoostingRegressor\n",
    "from sklearn.svm import LinearSVR\n",
    "\n",
    "# Turn on MLflow autologging for scikit-learn\n",
    "mlflow.sklearn.autolog(\n",
    "    log_datasets=False,        # don't snapshot the dataset\n",
    "    log_input_examples=False   # don't store a full input example\n",
    ")\n",
    "\n",
    "# Define two relatively light models:\n",
    "# - LinearSVR: fast linear model (good baseline)\n",
    "# - GradientBoostingRegressor: small tree ensemble with conservative settings\n",
    "model_specs = [\n",
    "    (\"LinearSVR\", LinearSVR(max_iter=5000)),                  # higher max_iter to ensure convergence\n",
    "    (\"GradientBoostingRegressor\", GradientBoostingRegressor(  # small/quick ensemble\n",
    "        n_estimators=80,          # fewer trees → faster\n",
    "        max_depth=3,              # shallow trees\n",
    "        learning_rate=0.08,       # a bit higher to compensate for fewer trees\n",
    "        subsample=0.9,            # stochastic boosting → faster, regularization\n",
    "        random_state=42\n",
    "    )),\n",
    "]\n",
    "\n",
    "for model_name, model in model_specs:\n",
    "    with mlflow.start_run(run_name=model_name):\n",
    "        # Record data sources for reproducibility\n",
    "        mlflow.log_param(\"train-data-path\", \"./data/green_tripdata_2022-01.parquet\")\n",
    "        mlflow.log_param(\"valid-data-path\", \"./data/green_tripdata_2022-02.parquet\")\n",
    "\n",
    "        # Log your fitted preprocessor (already created elsewhere)\n",
    "        mlflow.log_artifact(\"models/preprocessor.b\", artifact_path=\"preprocessor\")\n",
    "\n",
    "        # Train\n",
    "        model.fit(X_train, y_train)\n",
    "\n",
    "        # Validate\n",
    "        y_pred = model.predict(X_val)\n",
    "        rmse = np.sqrt(mean_squared_error(y_val, y_pred))\n",
    "\n",
    "        # Track results\n",
    "        mlflow.log_param(\"model_name\", model_name)\n",
    "        mlflow.log_metric(\"rmse\", rmse)\n"
   ]
  },
  {
   "cell_type": "markdown",
   "id": "641694b3",
   "metadata": {},
   "source": [
    "## Load Logged Model and Predict\n",
    "\n",
    "- Load a previously logged model from MLflow\n",
    "- Run predictions using both PyFunc and native XGBoost flavors\n",
    "- Inspect a sample of predictions\n"
   ]
  },
  {
   "cell_type": "code",
   "execution_count": null,
   "id": "4cd1e2cd",
   "metadata": {},
   "outputs": [],
   "source": [
    "import mlflow\n",
    "\n",
    "# Define the model URI (Uniform Resource Identifier).\n",
    "# This string points to a specific model stored in MLflow.\n",
    "logged_model = 'runs:/712e9c4fb3294a75bd60b15f76102062/models_mlflow'\n",
    "\n",
    "# Load the model using MLflow’s PyFunc interface/flavor.\n",
    "# This loads the model as a generic Python function (PyFuncModel),\n",
    "# which can make predictions on pandas DataFrames and other supported input types.\n",
    "loaded_model = mlflow.pyfunc.load_model(logged_model)"
   ]
  },
  {
   "cell_type": "code",
   "execution_count": null,
   "id": "f7edb369",
   "metadata": {},
   "outputs": [],
   "source": [
    "loaded_model"
   ]
  },
  {
   "cell_type": "code",
   "execution_count": null,
   "id": "c3ca64b6",
   "metadata": {},
   "outputs": [],
   "source": [
    "# Make predictions using RAW data (not DMatrix)\n",
    "y_pred_pyfunc = loaded_model.predict(X_val)\n",
    "\n",
    "# View predictions\n",
    "print(y_pred_pyfunc[:10])"
   ]
  },
  {
   "cell_type": "code",
   "execution_count": null,
   "id": "5917b7f4",
   "metadata": {},
   "outputs": [],
   "source": [
    "## Loads the same model, but using the XGBoost flavor.\n",
    "xgboost_model = mlflow.xgboost.load_model(logged_model)"
   ]
  },
  {
   "cell_type": "code",
   "execution_count": null,
   "id": "3ed1172a",
   "metadata": {},
   "outputs": [],
   "source": [
    "xgboost_model"
   ]
  },
  {
   "cell_type": "code",
   "execution_count": null,
   "id": "debbf63b",
   "metadata": {},
   "outputs": [],
   "source": [
    "y_pred = xgboost_model.predict(valid)"
   ]
  },
  {
   "cell_type": "code",
   "execution_count": null,
   "id": "ca148302",
   "metadata": {},
   "outputs": [],
   "source": [
    "# check the first 10\n",
    "y_pred[:10]"
   ]
  }
 ],
 "metadata": {
  "kernelspec": {
   "display_name": "experiment-tracking",
   "language": "python",
   "name": "python3"
  },
  "language_info": {
   "codemirror_mode": {
    "name": "ipython",
    "version": 3
   },
   "file_extension": ".py",
   "mimetype": "text/x-python",
   "name": "python",
   "nbconvert_exporter": "python",
   "pygments_lexer": "ipython3",
   "version": "3.9.24"
  }
 },
 "nbformat": 4,
 "nbformat_minor": 5
}
