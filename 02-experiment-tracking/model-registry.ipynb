{
 "cells": [
  {
   "cell_type": "markdown",
   "metadata": {},
   "source": [
    "# MLflow Model Registry — Managing Versions and Aliases\n",
    "\n",
    "This notebook shows how to register models, assign aliases, and evaluate variants using MLflow’s Model Registry.\n",
    "\n",
    "Sections\n",
    "- Configure Tracking URI\n",
    "- Interacting with the MLflow Tracking and Registry APIs\n",
    "- Create Client and List Experiments\n",
    "- Query Top Runs by Metric\n",
    "- Interacting with the Model Registry\n",
    "- Register Model Versions\n",
    "- List Registered Models\n",
    "- Working with Aliases\n",
    "- Load Model by Alias\n",
    "- Troubleshooting: Missing Model Artifacts\n",
    "- Cleanup and Fix Aliases\n",
    "- Helper Functions\n",
    "- Load Test Data\n",
    "- Download and Load Preprocessor\n",
    "- Vectorize Test Features\n",
    "- Define Target Variable\n",
    "- Evaluate Champion Model\n",
    "- Evaluate Challenger Model\n",
    "- Promote the new Champion"
   ]
  },
  {
   "cell_type": "markdown",
   "metadata": {},
   "source": [
    "### Configure Tracking URI\n",
    "\n",
    "- Set the tracking backend location (SQLite file in this example)\n",
    "- Use the same URI for both tracking and registry operations\n"
   ]
  },
  {
   "cell_type": "code",
   "execution_count": 15,
   "metadata": {},
   "outputs": [],
   "source": [
    "from mlflow.tracking import MlflowClient\n",
    "\n",
    "MLFLOW_TRACKING_URI = \"sqlite:///mlflow.db\""
   ]
  },
  {
   "cell_type": "markdown",
   "metadata": {},
   "source": [
    "- In this example, the URI points to a local SQLite database file `mlflow.db`.\n",
    "- The format `sqlite:///mlflow.db` means:\n",
    "  - `sqlite`: SQLite database engine\n",
    "  - `///mlflow.db`: path to the database file in the current directory"
   ]
  },
  {
   "cell_type": "markdown",
   "metadata": {},
   "source": [
    "## Interacting with the MLflow Tracking and Registry APIs\n",
    "\n",
    "The `MlflowClient` lets us interact with:\n",
    "- The MLflow Tracking Server (experiments and runs)\n",
    "- The MLflow Model Registry (registered models and versions)\n",
    "\n",
    "Instantiate it by providing a tracking URI (and optionally a separate registry URI)."
   ]
  },
  {
   "cell_type": "markdown",
   "metadata": {},
   "source": [
    "### Create Client and List Experiments\n",
    "\n",
    "- Instantiate `MlflowClient`\n",
    "- Verify connection by listing experiments\n"
   ]
  },
  {
   "cell_type": "code",
   "execution_count": 16,
   "metadata": {},
   "outputs": [
    {
     "data": {
      "text/plain": [
       "[<Experiment: artifact_location='/workspaces/mlops-zoomcamp/02-experiment-tracking/mlruns/2', creation_time=1761832181456, experiment_id='2', last_update_time=1761832181456, lifecycle_stage='active', name='my-cool-experiment', tags={}>,\n",
       " <Experiment: artifact_location='/workspaces/mlops-zoomcamp/02-experiment-tracking/mlruns/1', creation_time=1761828359873, experiment_id='1', last_update_time=1761828359873, lifecycle_stage='active', name='nyc-taxi-experiment', tags={}>,\n",
       " <Experiment: artifact_location='/workspaces/mlops-zoomcamp/02-experiment-tracking/mlruns/0', creation_time=1761828359867, experiment_id='0', last_update_time=1761828359867, lifecycle_stage='active', name='Default', tags={}>]"
      ]
     },
     "execution_count": 16,
     "metadata": {},
     "output_type": "execute_result"
    }
   ],
   "source": [
    "client = MlflowClient(tracking_uri=MLFLOW_TRACKING_URI)\n",
    "\n",
    "# In MLflow 2.x, use search_experiments() instead of list_experiments()\n",
    "client.search_experiments()"
   ]
  },
  {
   "cell_type": "code",
   "execution_count": 17,
   "metadata": {},
   "outputs": [],
   "source": [
    "# # Create a new experiment named \"my-cool-experiment\" in the MLflow tracking server.\n",
    "# # If an experiment with this name already exists, this will raise an exception.\n",
    "# client.create_experiment(name=\"my-cool-experiment\")"
   ]
  },
  {
   "cell_type": "markdown",
   "metadata": {},
   "source": [
    "Let's check the latest versions for the experiment with id `1`..."
   ]
  },
  {
   "cell_type": "markdown",
   "metadata": {},
   "source": [
    "### Query Top Runs by Metric\n",
    "\n",
    "- Filter by `rmse < 7` and sort ascending\n",
    "- Fetch a limited number of best runs\n"
   ]
  },
  {
   "cell_type": "code",
   "execution_count": 76,
   "metadata": {},
   "outputs": [],
   "source": [
    "# Search for the top 5 runs in experiment '1' where the RMSE metric is less than 7,\n",
    "# sorted in ascending order of RMSE. Only ACTIVE runs are considered.\n",
    "# 'runs' will be a list of Run objects matching this criteria.\n",
    "\n",
    "from mlflow.entities import ViewType\n",
    "\n",
    "runs = client.search_runs(\n",
    "    experiment_ids='1',\n",
    "    filter_string=\"metrics.rmse < 7\",\n",
    "    run_view_type=ViewType.ACTIVE_ONLY,\n",
    "    max_results=5,\n",
    "    order_by=[\"metrics.rmse ASC\"]\n",
    ")"
   ]
  },
  {
   "cell_type": "code",
   "execution_count": 77,
   "metadata": {},
   "outputs": [
    {
     "data": {
      "text/plain": [
       "[<Run: data=<RunData: metrics={'rmse': 4.569990569874923}, params={'learning_rate': '0.34675437333267856',\n",
       "  'max_depth': '44',\n",
       "  'min_child_weight': '0.5453440445225199',\n",
       "  'objective': 'reg:squarederror',\n",
       "  'reg_alpha': '0.01288008035321842',\n",
       "  'reg_lambda': '0.13210782702114726',\n",
       "  'seed': '42'}, tags={'mlflow.runName': 'sassy-loon-195',\n",
       "  'mlflow.source.name': '/home/codespace/anaconda3/envs/experiment-tracking/lib/python3.9/site-packages/ipykernel_launcher.py',\n",
       "  'mlflow.source.type': 'LOCAL',\n",
       "  'mlflow.user': 'codespace',\n",
       "  'model': 'xgboost'}>, info=<RunInfo: artifact_uri='/workspaces/mlops-zoomcamp/02-experiment-tracking/mlruns/1/0ea9354f03c444e394092b22535a37ec/artifacts', end_time=1761833418236, experiment_id='1', lifecycle_stage='active', run_id='0ea9354f03c444e394092b22535a37ec', run_name='sassy-loon-195', run_uuid='0ea9354f03c444e394092b22535a37ec', start_time=1761833224531, status='FINISHED', user_id='codespace'>, inputs=<RunInputs: dataset_inputs=[]>>,\n",
       " <Run: data=<RunData: metrics={'rmse': 4.581561499999528}, params={'learning_rate': '0.7374698922013079',\n",
       "  'max_depth': '18',\n",
       "  'min_child_weight': '0.4136735641226331',\n",
       "  'objective': 'reg:squarederror',\n",
       "  'reg_alpha': '0.3259015421103342',\n",
       "  'reg_lambda': '0.15179293784554457',\n",
       "  'seed': '42'}, tags={'mlflow.runName': 'useful-auk-139',\n",
       "  'mlflow.source.name': '/home/codespace/anaconda3/envs/experiment-tracking/lib/python3.9/site-packages/ipykernel_launcher.py',\n",
       "  'mlflow.source.type': 'LOCAL',\n",
       "  'mlflow.user': 'codespace',\n",
       "  'model': 'xgboost'}>, info=<RunInfo: artifact_uri='/workspaces/mlops-zoomcamp/02-experiment-tracking/mlruns/1/cd20c2a4aa2f494a9fe17b9a902e761d/artifacts', end_time=1761834045423, experiment_id='1', lifecycle_stage='active', run_id='cd20c2a4aa2f494a9fe17b9a902e761d', run_name='useful-auk-139', run_uuid='cd20c2a4aa2f494a9fe17b9a902e761d', start_time=1761833922394, status='FINISHED', user_id='codespace'>, inputs=<RunInputs: dataset_inputs=[]>>,\n",
       " <Run: data=<RunData: metrics={'rmse': 4.609006408158212}, params={'learning_rate': '0.4130309624408225',\n",
       "  'max_depth': '27',\n",
       "  'min_child_weight': '9.937948830417703',\n",
       "  'objective': 'reg:squarederror',\n",
       "  'reg_alpha': '0.07160892456655153',\n",
       "  'reg_lambda': '0.17494618493265404',\n",
       "  'seed': '42'}, tags={'mlflow.runName': 'luminous-skunk-970',\n",
       "  'mlflow.source.name': '/home/codespace/anaconda3/envs/experiment-tracking/lib/python3.9/site-packages/ipykernel_launcher.py',\n",
       "  'mlflow.source.type': 'LOCAL',\n",
       "  'mlflow.user': 'codespace',\n",
       "  'model': 'xgboost'}>, info=<RunInfo: artifact_uri='/workspaces/mlops-zoomcamp/02-experiment-tracking/mlruns/1/ee5b836f564b4edaaa2a3b5711977c4b/artifacts', end_time=1761833224521, experiment_id='1', lifecycle_stage='active', run_id='ee5b836f564b4edaaa2a3b5711977c4b', run_name='luminous-skunk-970', run_uuid='ee5b836f564b4edaaa2a3b5711977c4b', start_time=1761833089337, status='FINISHED', user_id='codespace'>, inputs=<RunInputs: dataset_inputs=[]>>,\n",
       " <Run: data=<RunData: metrics={'rmse': 4.635166751489559}, params={'learning_rate': '0.46748127758417574',\n",
       "  'max_depth': '18',\n",
       "  'min_child_weight': '1.9193857971169122',\n",
       "  'objective': 'reg:squarederror',\n",
       "  'reg_alpha': '0.052518266713885715',\n",
       "  'reg_lambda': '0.0026163383290324894',\n",
       "  'seed': '42'}, tags={'mlflow.runName': 'gaudy-quail-745',\n",
       "  'mlflow.source.name': '/home/codespace/anaconda3/envs/experiment-tracking/lib/python3.9/site-packages/ipykernel_launcher.py',\n",
       "  'mlflow.source.type': 'LOCAL',\n",
       "  'mlflow.user': 'codespace',\n",
       "  'model': 'xgboost'}>, info=<RunInfo: artifact_uri='/workspaces/mlops-zoomcamp/02-experiment-tracking/mlruns/1/4cbe44e7872b49238546404fd3f0b5f4/artifacts', end_time=1761832738518, experiment_id='1', lifecycle_stage='active', run_id='4cbe44e7872b49238546404fd3f0b5f4', run_name='gaudy-quail-745', run_uuid='4cbe44e7872b49238546404fd3f0b5f4', start_time=1761832604558, status='FINISHED', user_id='codespace'>, inputs=<RunInputs: dataset_inputs=[]>>,\n",
       " <Run: data=<RunData: metrics={'rmse': 4.649362487168486}, params={'learning_rate': '0.11023433928700485',\n",
       "  'max_depth': '44',\n",
       "  'min_child_weight': '12.896223675901188',\n",
       "  'objective': 'reg:squarederror',\n",
       "  'reg_alpha': '0.009625014638983421',\n",
       "  'reg_lambda': '0.008527196930668732',\n",
       "  'seed': '42'}, tags={'mlflow.runName': 'thundering-cod-896',\n",
       "  'mlflow.source.name': '/home/codespace/anaconda3/envs/experiment-tracking/lib/python3.9/site-packages/ipykernel_launcher.py',\n",
       "  'mlflow.source.type': 'LOCAL',\n",
       "  'mlflow.user': 'codespace',\n",
       "  'model': 'xgboost'}>, info=<RunInfo: artifact_uri='/workspaces/mlops-zoomcamp/02-experiment-tracking/mlruns/1/a349d7ef8aaa4359adbf8f995571efc5/artifacts', end_time=1761833089327, experiment_id='1', lifecycle_stage='active', run_id='a349d7ef8aaa4359adbf8f995571efc5', run_name='thundering-cod-896', run_uuid='a349d7ef8aaa4359adbf8f995571efc5', start_time=1761832858179, status='FINISHED', user_id='codespace'>, inputs=<RunInputs: dataset_inputs=[]>>]"
      ]
     },
     "execution_count": 77,
     "metadata": {},
     "output_type": "execute_result"
    }
   ],
   "source": [
    "runs"
   ]
  },
  {
   "cell_type": "code",
   "execution_count": 78,
   "metadata": {},
   "outputs": [
    {
     "name": "stdout",
     "output_type": "stream",
     "text": [
      "run id: 0ea9354f03c444e394092b22535a37ec, rmse: 4.5700\n",
      "run id: cd20c2a4aa2f494a9fe17b9a902e761d, rmse: 4.5816\n",
      "run id: ee5b836f564b4edaaa2a3b5711977c4b, rmse: 4.6090\n",
      "run id: 4cbe44e7872b49238546404fd3f0b5f4, rmse: 4.6352\n",
      "run id: a349d7ef8aaa4359adbf8f995571efc5, rmse: 4.6494\n"
     ]
    }
   ],
   "source": [
    "for run in runs:\n",
    "    print(f\"run id: {run.info.run_id}, rmse: {run.data.metrics['rmse']:.4f}\")"
   ]
  },
  {
   "cell_type": "markdown",
   "metadata": {},
   "source": [
    "## Interacting with the Model Registry\n",
    "\n",
    "In this section we will use the `MlflowClient` to:\n",
    "\n",
    "1. Register new versions of the model `nyc-taxi-regressor`\n",
    "2. Retrieve the latest versions and inspect their metadata\n",
    "3. Manage aliases (e.g., `champion`, `challenger`) instead of stages"
   ]
  },
  {
   "cell_type": "markdown",
   "metadata": {},
   "source": [
    "### Ensure Tracking URI for Registry Operations\n",
    "\n",
    "- Set tracking URI before interacting with the registry\n",
    "- Keeps tracking and registry calls consistent\n"
   ]
  },
  {
   "cell_type": "code",
   "execution_count": 21,
   "metadata": {},
   "outputs": [],
   "source": [
    "# Registering and managing model versions in the MLflow Model Registry\n",
    "\n",
    "# The following code block ensures we are using the correct MLflow tracking server URI.\n",
    "# This is necessary to connect to the MLflow backend for logging and model registry operations.\n",
    "import mlflow\n",
    "\n",
    "mlflow.set_tracking_uri(MLFLOW_TRACKING_URI)"
   ]
  },
  {
   "cell_type": "markdown",
   "metadata": {},
   "source": [
    "### Register Model Versions\n",
    "\n",
    "- Register artifacts from specific runs to create new versions\n",
    "- Repeat to create multiple versions for comparison\n"
   ]
  },
  {
   "cell_type": "code",
   "execution_count": null,
   "metadata": {},
   "outputs": [
    {
     "name": "stderr",
     "output_type": "stream",
     "text": [
      "Successfully registered model 'nyc-taxi-regressor'.\n",
      "Created version '1' of model 'nyc-taxi-regressor'.\n"
     ]
    },
    {
     "data": {
      "text/plain": [
       "<ModelVersion: aliases=[], creation_timestamp=1761834931853, current_stage='None', description=None, last_updated_timestamp=1761834931853, name='nyc-taxi-regressor', run_id='0ea9354f03c444e394092b22535a37ec', run_link=None, source='/workspaces/mlops-zoomcamp/02-experiment-tracking/mlruns/1/0ea9354f03c444e394092b22535a37ec/artifacts/model', status='READY', status_message=None, tags={}, user_id=None, version=1>"
      ]
     },
     "execution_count": 22,
     "metadata": {},
     "output_type": "execute_result"
    }
   ],
   "source": [
    "run_id = \"0ea9354f03c444e394092b22535a37ec\""
   ]
  },
  {
   "cell_type": "code",
   "execution_count": null,
   "metadata": {},
   "outputs": [],
   "source": [
    "# model_uri = f\"runs:/{run_id}/model\"\n",
    "# mlflow.register_model(model_uri=model_uri, name=\"nyc-taxi-regressor\")"
   ]
  },
  {
   "cell_type": "code",
   "execution_count": null,
   "metadata": {},
   "outputs": [
    {
     "name": "stderr",
     "output_type": "stream",
     "text": [
      "Registered model 'nyc-taxi-regressor' already exists. Creating a new version of this model...\n",
      "Created version '2' of model 'nyc-taxi-regressor'.\n"
     ]
    },
    {
     "data": {
      "text/plain": [
       "<ModelVersion: aliases=[], creation_timestamp=1761835815723, current_stage='None', description=None, last_updated_timestamp=1761835815723, name='nyc-taxi-regressor', run_id='cd20c2a4aa2f494a9fe17b9a902e761d', run_link=None, source='/workspaces/mlops-zoomcamp/02-experiment-tracking/mlruns/1/cd20c2a4aa2f494a9fe17b9a902e761d/artifacts/model', status='READY', status_message=None, tags={}, user_id=None, version=2>"
      ]
     },
     "execution_count": 30,
     "metadata": {},
     "output_type": "execute_result"
    }
   ],
   "source": [
    "# # To create version 2, you need to register a new model artifact with the same registered model name.\n",
    "# # The following code creates a new version by registering the model artifact from a different run.\n",
    "# run_id2 = \"cd20c2a4aa2f494a9fe17b9a902e761d\"\n",
    "# model_uri = f\"runs:/{run_id2}/model\"\n",
    "# mlflow.register_model(model_uri=model_uri, name=\"nyc-taxi-regressor\")\n"
   ]
  },
  {
   "cell_type": "markdown",
   "metadata": {},
   "source": [
    "### List Registered Models\n",
    "\n",
    "- Inspect available registered models and versions\n"
   ]
  },
  {
   "cell_type": "code",
   "execution_count": 31,
   "metadata": {},
   "outputs": [
    {
     "data": {
      "text/plain": [
       "[<RegisteredModel: aliases={}, creation_timestamp=1761834931839, description=None, last_updated_timestamp=1761835815723, latest_versions=[<ModelVersion: aliases=[], creation_timestamp=1761834931853, current_stage='Production', description=None, last_updated_timestamp=1761835348391, name='nyc-taxi-regressor', run_id='0ea9354f03c444e394092b22535a37ec', run_link=None, source='/workspaces/mlops-zoomcamp/02-experiment-tracking/mlruns/1/0ea9354f03c444e394092b22535a37ec/artifacts/model', status='READY', status_message=None, tags={}, user_id=None, version=1>,\n",
       "  <ModelVersion: aliases=[], creation_timestamp=1761835815723, current_stage='None', description=None, last_updated_timestamp=1761835815723, name='nyc-taxi-regressor', run_id='cd20c2a4aa2f494a9fe17b9a902e761d', run_link=None, source='/workspaces/mlops-zoomcamp/02-experiment-tracking/mlruns/1/cd20c2a4aa2f494a9fe17b9a902e761d/artifacts/model', status='READY', status_message=None, tags={}, user_id=None, version=2>], name='nyc-taxi-regressor', tags={}>,\n",
       " <RegisteredModel: aliases={'test': 1}, creation_timestamp=1761831879178, description='', last_updated_timestamp=1761831879302, latest_versions=[<ModelVersion: aliases=[], creation_timestamp=1761831879302, current_stage='None', description='', last_updated_timestamp=1761831879302, name='nyc-taxi-test', run_id='712e9c4fb3294a75bd60b15f76102062', run_link='', source='/workspaces/mlops-zoomcamp/02-experiment-tracking/mlruns/1/712e9c4fb3294a75bd60b15f76102062/artifacts/models_mlflow', status='READY', status_message=None, tags={'model': 'xgboost'}, user_id=None, version=1>], name='nyc-taxi-test', tags={}>]"
      ]
     },
     "execution_count": 31,
     "metadata": {},
     "output_type": "execute_result"
    }
   ],
   "source": [
    "client.search_registered_models()"
   ]
  },
  {
   "cell_type": "code",
   "execution_count": 64,
   "metadata": {},
   "outputs": [
    {
     "name": "stderr",
     "output_type": "stream",
     "text": [
      "/tmp/ipykernel_167100/82709836.py:6: FutureWarning: ``mlflow.tracking.client.MlflowClient.get_latest_versions`` is deprecated since 2.9.0. Model registry stages will be removed in a future major release. To learn more about the deprecation of model registry stages, see our migration guide here: https://mlflow.org/docs/latest/model-registry.html#migrating-from-stages\n",
      "  latest_versions = client.get_latest_versions(name=model_name)\n"
     ]
    }
   ],
   "source": [
    "# Retrieve the name of the registered model we want to interact with\n",
    "model_name = \"nyc-taxi-regressor\"\n",
    "\n",
    "# Get the latest version(s) of the specified model using the MLflow client.\n",
    "# This allows us to inspect the available versions and their current stages (e.g., None, Staging, Production, etc.).\n",
    "latest_versions = client.get_latest_versions(name=model_name)"
   ]
  },
  {
   "cell_type": "markdown",
   "metadata": {},
   "source": [
    "### Working with Aliases\n",
    "\n",
    "- Assign aliases like `champion` and `challenger`\n",
    "- Retrieve versions via aliases for inference and management\n"
   ]
  },
  {
   "cell_type": "code",
   "execution_count": 70,
   "metadata": {},
   "outputs": [],
   "source": [
    "# Set an alias\n",
    "client.set_registered_model_alias(\n",
    "    name=\"nyc-taxi-regressor\",\n",
    "    alias=\"champion\",  # or \"production\", \"staging\", \"challenger\", etc.\n",
    "    version=\"1\"\n",
    ")"
   ]
  },
  {
   "cell_type": "code",
   "execution_count": 67,
   "metadata": {},
   "outputs": [],
   "source": [
    "# Get version by alias\n",
    "champion_version = client.get_model_version_by_alias(\n",
    "    name=\"nyc-taxi-regressor\",\n",
    "    alias=\"champion\"\n",
    ")"
   ]
  },
  {
   "cell_type": "code",
   "execution_count": 68,
   "metadata": {},
   "outputs": [
    {
     "data": {
      "text/plain": [
       "<ModelVersion: aliases=['champion'], creation_timestamp=1761834931853, current_stage='Production', description=None, last_updated_timestamp=1761836799622, name='nyc-taxi-regressor', run_id='0ea9354f03c444e394092b22535a37ec', run_link=None, source='/workspaces/mlops-zoomcamp/02-experiment-tracking/mlruns/1/0ea9354f03c444e394092b22535a37ec/artifacts/model', status='READY', status_message=None, tags={}, user_id=None, version=1>"
      ]
     },
     "execution_count": 68,
     "metadata": {},
     "output_type": "execute_result"
    }
   ],
   "source": [
    "champion_version"
   ]
  },
  {
   "cell_type": "code",
   "execution_count": 74,
   "metadata": {},
   "outputs": [
    {
     "name": "stdout",
     "output_type": "stream",
     "text": [
      "Tracking URI: sqlite:///mlflow.db\n",
      "Alias -> version: 1\n",
      "Alias -> source: /workspaces/mlops-zoomcamp/02-experiment-tracking/mlruns/1/0ea9354f03c444e394092b22535a37ec/artifacts/model\n",
      "Alias -> run_id: 0ea9354f03c444e394092b22535a37ec\n"
     ]
    }
   ],
   "source": [
    "import mlflow\n",
    "from mlflow.tracking import MlflowClient\n",
    "\n",
    "print(\"Tracking URI:\", mlflow.get_tracking_uri())\n",
    "\n",
    "client = MlflowClient()\n",
    "mv = client.get_model_version_by_alias(\"nyc-taxi-regressor\", \"champion\")\n",
    "print(\"Alias -> version:\", mv.version)\n",
    "print(\"Alias -> source:\", mv.source)  # where MLflow expects the model files\n",
    "print(\"Alias -> run_id:\", mv.run_id)\n"
   ]
  },
  {
   "cell_type": "markdown",
   "metadata": {},
   "source": [
    "### Load Model by Alias\n",
    "\n",
    "- Use `models:/<name>@<alias>` to resolve to a specific version\n"
   ]
  },
  {
   "cell_type": "code",
   "execution_count": 45,
   "metadata": {},
   "outputs": [
    {
     "ename": "OSError",
     "evalue": "No such file or directory: '/workspaces/mlops-zoomcamp/02-experiment-tracking/mlruns/1/0ea9354f03c444e394092b22535a37ec/artifacts/model/.'",
     "output_type": "error",
     "traceback": [
      "\u001b[0;31m---------------------------------------------------------------------------\u001b[0m",
      "\u001b[0;31mOSError\u001b[0m                                   Traceback (most recent call last)",
      "Cell \u001b[0;32mIn[45], line 1\u001b[0m\n\u001b[0;32m----> 1\u001b[0m \u001b[43mmlflow\u001b[49m\u001b[38;5;241;43m.\u001b[39;49m\u001b[43mpyfunc\u001b[49m\u001b[38;5;241;43m.\u001b[39;49m\u001b[43mload_model\u001b[49m\u001b[43m(\u001b[49m\u001b[38;5;124;43mf\u001b[39;49m\u001b[38;5;124;43m\"\u001b[39;49m\u001b[38;5;124;43mmodels:/nyc-taxi-regressor@champion\u001b[39;49m\u001b[38;5;124;43m\"\u001b[39;49m\u001b[43m)\u001b[49m\n",
      "File \u001b[0;32m~/anaconda3/envs/experiment-tracking/lib/python3.9/site-packages/mlflow/tracing/provider.py:422\u001b[0m, in \u001b[0;36mtrace_disabled.<locals>.wrapper\u001b[0;34m(*args, **kwargs)\u001b[0m\n\u001b[1;32m    420\u001b[0m disable()\n\u001b[1;32m    421\u001b[0m \u001b[38;5;28;01mtry\u001b[39;00m:\n\u001b[0;32m--> 422\u001b[0m     is_func_called, result \u001b[38;5;241m=\u001b[39m \u001b[38;5;28;01mTrue\u001b[39;00m, \u001b[43mf\u001b[49m\u001b[43m(\u001b[49m\u001b[38;5;241;43m*\u001b[39;49m\u001b[43margs\u001b[49m\u001b[43m,\u001b[49m\u001b[43m \u001b[49m\u001b[38;5;241;43m*\u001b[39;49m\u001b[38;5;241;43m*\u001b[39;49m\u001b[43mkwargs\u001b[49m\u001b[43m)\u001b[49m\n\u001b[1;32m    423\u001b[0m \u001b[38;5;28;01mfinally\u001b[39;00m:\n\u001b[1;32m    424\u001b[0m     enable()\n",
      "File \u001b[0;32m~/anaconda3/envs/experiment-tracking/lib/python3.9/site-packages/mlflow/pyfunc/__init__.py:1099\u001b[0m, in \u001b[0;36mload_model\u001b[0;34m(model_uri, suppress_warnings, dst_path, model_config)\u001b[0m\n\u001b[1;32m   1095\u001b[0m         entity_list\u001b[38;5;241m.\u001b[39mappend(Entity(job\u001b[38;5;241m=\u001b[39mjob_entity))\n\u001b[1;32m   1097\u001b[0m     lineage_header_info \u001b[38;5;241m=\u001b[39m LineageHeaderInfo(entities\u001b[38;5;241m=\u001b[39mentity_list) \u001b[38;5;28;01mif\u001b[39;00m entity_list \u001b[38;5;28;01melse\u001b[39;00m \u001b[38;5;28;01mNone\u001b[39;00m\n\u001b[0;32m-> 1099\u001b[0m local_path \u001b[38;5;241m=\u001b[39m \u001b[43m_download_artifact_from_uri\u001b[49m\u001b[43m(\u001b[49m\n\u001b[1;32m   1100\u001b[0m \u001b[43m    \u001b[49m\u001b[43martifact_uri\u001b[49m\u001b[38;5;241;43m=\u001b[39;49m\u001b[43mmodel_uri\u001b[49m\u001b[43m,\u001b[49m\u001b[43m \u001b[49m\u001b[43moutput_path\u001b[49m\u001b[38;5;241;43m=\u001b[39;49m\u001b[43mdst_path\u001b[49m\u001b[43m,\u001b[49m\u001b[43m \u001b[49m\u001b[43mlineage_header_info\u001b[49m\u001b[38;5;241;43m=\u001b[39;49m\u001b[43mlineage_header_info\u001b[49m\n\u001b[1;32m   1101\u001b[0m \u001b[43m\u001b[49m\u001b[43m)\u001b[49m\n\u001b[1;32m   1103\u001b[0m \u001b[38;5;28;01mif\u001b[39;00m \u001b[38;5;129;01mnot\u001b[39;00m suppress_warnings:\n\u001b[1;32m   1104\u001b[0m     model_requirements \u001b[38;5;241m=\u001b[39m _get_pip_requirements_from_model_path(local_path)\n",
      "File \u001b[0;32m~/anaconda3/envs/experiment-tracking/lib/python3.9/site-packages/mlflow/tracking/artifact_utils.py:111\u001b[0m, in \u001b[0;36m_download_artifact_from_uri\u001b[0;34m(artifact_uri, output_path, lineage_header_info)\u001b[0m\n\u001b[1;32m    108\u001b[0m repo \u001b[38;5;241m=\u001b[39m get_artifact_repository(artifact_uri\u001b[38;5;241m=\u001b[39mroot_uri)\n\u001b[1;32m    110\u001b[0m \u001b[38;5;28;01mif\u001b[39;00m \u001b[38;5;28misinstance\u001b[39m(repo, ModelsArtifactRepository):\n\u001b[0;32m--> 111\u001b[0m     \u001b[38;5;28;01mreturn\u001b[39;00m \u001b[43mrepo\u001b[49m\u001b[38;5;241;43m.\u001b[39;49m\u001b[43mdownload_artifacts\u001b[49m\u001b[43m(\u001b[49m\n\u001b[1;32m    112\u001b[0m \u001b[43m        \u001b[49m\u001b[43martifact_path\u001b[49m\u001b[38;5;241;43m=\u001b[39;49m\u001b[43martifact_path\u001b[49m\u001b[43m,\u001b[49m\n\u001b[1;32m    113\u001b[0m \u001b[43m        \u001b[49m\u001b[43mdst_path\u001b[49m\u001b[38;5;241;43m=\u001b[39;49m\u001b[43moutput_path\u001b[49m\u001b[43m,\u001b[49m\n\u001b[1;32m    114\u001b[0m \u001b[43m        \u001b[49m\u001b[43mlineage_header_info\u001b[49m\u001b[38;5;241;43m=\u001b[39;49m\u001b[43mlineage_header_info\u001b[49m\u001b[43m,\u001b[49m\n\u001b[1;32m    115\u001b[0m \u001b[43m    \u001b[49m\u001b[43m)\u001b[49m\n\u001b[1;32m    116\u001b[0m \u001b[38;5;28;01mreturn\u001b[39;00m repo\u001b[38;5;241m.\u001b[39mdownload_artifacts(artifact_path\u001b[38;5;241m=\u001b[39martifact_path, dst_path\u001b[38;5;241m=\u001b[39moutput_path)\n",
      "File \u001b[0;32m~/anaconda3/envs/experiment-tracking/lib/python3.9/site-packages/mlflow/store/artifact/models_artifact_repo.py:210\u001b[0m, in \u001b[0;36mModelsArtifactRepository.download_artifacts\u001b[0;34m(self, artifact_path, dst_path, lineage_header_info)\u001b[0m\n\u001b[1;32m    206\u001b[0m     model_path \u001b[38;5;241m=\u001b[39m \u001b[38;5;28mself\u001b[39m\u001b[38;5;241m.\u001b[39mrepo\u001b[38;5;241m.\u001b[39mdownload_artifacts(\n\u001b[1;32m    207\u001b[0m         artifact_path, dst_path, lineage_header_info\u001b[38;5;241m=\u001b[39mlineage_header_info\n\u001b[1;32m    208\u001b[0m     )\n\u001b[1;32m    209\u001b[0m \u001b[38;5;28;01melse\u001b[39;00m:\n\u001b[0;32m--> 210\u001b[0m     model_path \u001b[38;5;241m=\u001b[39m \u001b[38;5;28;43mself\u001b[39;49m\u001b[38;5;241;43m.\u001b[39;49m\u001b[43mrepo\u001b[49m\u001b[38;5;241;43m.\u001b[39;49m\u001b[43mdownload_artifacts\u001b[49m\u001b[43m(\u001b[49m\u001b[43martifact_path\u001b[49m\u001b[43m,\u001b[49m\u001b[43m \u001b[49m\u001b[43mdst_path\u001b[49m\u001b[43m)\u001b[49m\n\u001b[1;32m    211\u001b[0m \u001b[38;5;66;03m# NB: only add the registered model metadata iff the artifact path is at the root model\u001b[39;00m\n\u001b[1;32m    212\u001b[0m \u001b[38;5;66;03m# directory. For individual files or subdirectories within the model directory, do not\u001b[39;00m\n\u001b[1;32m    213\u001b[0m \u001b[38;5;66;03m# create the metadata file.\u001b[39;00m\n\u001b[1;32m    214\u001b[0m \u001b[38;5;28;01mif\u001b[39;00m os\u001b[38;5;241m.\u001b[39mpath\u001b[38;5;241m.\u001b[39misdir(model_path) \u001b[38;5;129;01mand\u001b[39;00m MLMODEL_FILE_NAME \u001b[38;5;129;01min\u001b[39;00m os\u001b[38;5;241m.\u001b[39mlistdir(model_path):\n",
      "File \u001b[0;32m~/anaconda3/envs/experiment-tracking/lib/python3.9/site-packages/mlflow/store/artifact/local_artifact_repo.py:91\u001b[0m, in \u001b[0;36mLocalArtifactRepository.download_artifacts\u001b[0;34m(self, artifact_path, dst_path)\u001b[0m\n\u001b[1;32m     89\u001b[0m local_artifact_path \u001b[38;5;241m=\u001b[39m os\u001b[38;5;241m.\u001b[39mpath\u001b[38;5;241m.\u001b[39mjoin(\u001b[38;5;28mself\u001b[39m\u001b[38;5;241m.\u001b[39martifact_dir, os\u001b[38;5;241m.\u001b[39mpath\u001b[38;5;241m.\u001b[39mnormpath(artifact_path))\n\u001b[1;32m     90\u001b[0m \u001b[38;5;28;01mif\u001b[39;00m \u001b[38;5;129;01mnot\u001b[39;00m os\u001b[38;5;241m.\u001b[39mpath\u001b[38;5;241m.\u001b[39mexists(local_artifact_path):\n\u001b[0;32m---> 91\u001b[0m     \u001b[38;5;28;01mraise\u001b[39;00m \u001b[38;5;167;01mOSError\u001b[39;00m(\u001b[38;5;124mf\u001b[39m\u001b[38;5;124m\"\u001b[39m\u001b[38;5;124mNo such file or directory: \u001b[39m\u001b[38;5;124m'\u001b[39m\u001b[38;5;132;01m{\u001b[39;00mlocal_artifact_path\u001b[38;5;132;01m}\u001b[39;00m\u001b[38;5;124m'\u001b[39m\u001b[38;5;124m\"\u001b[39m)\n\u001b[1;32m     92\u001b[0m \u001b[38;5;28;01mreturn\u001b[39;00m os\u001b[38;5;241m.\u001b[39mpath\u001b[38;5;241m.\u001b[39mabspath(local_artifact_path)\n",
      "\u001b[0;31mOSError\u001b[0m: No such file or directory: '/workspaces/mlops-zoomcamp/02-experiment-tracking/mlruns/1/0ea9354f03c444e394092b22535a37ec/artifacts/model/.'"
     ]
    }
   ],
   "source": [
    "mlflow.pyfunc.load_model(f\"models:/nyc-taxi-regressor@champion\")"
   ]
  },
  {
   "cell_type": "markdown",
   "metadata": {},
   "source": [
    "### Troubleshooting: Missing Model Artifacts\n",
    "\n",
    "- Ensure the registered model’s run has the actual model files\n",
    "- Re-register from the correct run or adjust aliases accordingly\n"
   ]
  },
  {
   "cell_type": "markdown",
   "metadata": {},
   "source": [
    "* The error occurred because **model artifacts are missing**.\n",
    "* The registered model points to **run ID `0ea9354f03c444e394092b22535a37ec`**, but that run **doesn’t exist** or has **no saved model files**.\n",
    "* The real model artifacts are in a **different run**"
   ]
  },
  {
   "cell_type": "markdown",
   "metadata": {},
   "source": [
    "### Cleanup and Fix Aliases\n",
    "\n",
    "- Remove incorrect registrations\n",
    "- Set aliases (`champion`, `challenger`) to correct versions\n",
    "- Optionally update descriptions\n"
   ]
  },
  {
   "cell_type": "code",
   "execution_count": 75,
   "metadata": {},
   "outputs": [],
   "source": [
    "# Delete the incorrectly registered model first\n",
    "client.delete_registered_model(name=\"nyc-taxi-regressor\")"
   ]
  },
  {
   "cell_type": "code",
   "execution_count": 82,
   "metadata": {},
   "outputs": [],
   "source": [
    "client.set_registered_model_alias(\n",
    "    name=\"nyc-taxi-test\",\n",
    "    alias=\"champion\",  # or \"production\", \"staging\", \"challenger\", etc.\n",
    "    version=\"1\"\n",
    ")"
   ]
  },
  {
   "cell_type": "code",
   "execution_count": 85,
   "metadata": {},
   "outputs": [],
   "source": [
    "model_prod = mlflow.pyfunc.load_model(\"models:/nyc-taxi-test@champion\")"
   ]
  },
  {
   "cell_type": "code",
   "execution_count": 83,
   "metadata": {},
   "outputs": [
    {
     "data": {
      "text/plain": [
       "<ModelVersion: aliases=['champion', 'test'], creation_timestamp=1761831879302, current_stage='None', description='This is the champion version of the model.', last_updated_timestamp=1761837885864, name='nyc-taxi-test', run_id='712e9c4fb3294a75bd60b15f76102062', run_link='', source='/workspaces/mlops-zoomcamp/02-experiment-tracking/mlruns/1/712e9c4fb3294a75bd60b15f76102062/artifacts/models_mlflow', status='READY', status_message=None, tags={'model': 'xgboost'}, user_id=None, version=1>"
      ]
     },
     "execution_count": 83,
     "metadata": {},
     "output_type": "execute_result"
    }
   ],
   "source": [
    "# Update the description separately\n",
    "client.update_model_version(\n",
    "    name=\"nyc-taxi-test\",\n",
    "    version=\"1\",\n",
    "    description=\"This is the champion version of the model.\"\n",
    ")"
   ]
  },
  {
   "cell_type": "markdown",
   "metadata": {},
   "source": [
    "## Comparing versions and selecting the new “Champion” model\n",
    "\n",
    "In this section, we’ll retrieve models registered in the MLflow Model Registry and compare their performance on an unseen test set.\n",
    "\n",
    "This simulates a real-world scenario where a deployment engineer evaluates whether the current **production model** (the **“champion”**) should be replaced by a newer **“challenger”** model.\n",
    "\n",
    "1. **Load the test dataset**: Use the [NYC Yellow Taxi data from March 2021](https://d37ci6vzurychx.cloudfront.net/trip-data/yellow_tripdata_2021-03.parquet) for evaluation.\n",
    "2. **Load the preprocessing artifact**: Download the saved `DictVectorizer` (logged as an artifact in MLflow) and load it using `pickle`.\n",
    "3. **Preprocess the test data**: Transform the raw test dataset with the loaded `DictVectorizer` so it matches the training feature format.\n",
    "4. **Compare model performance**\n",
    "\n",
    "\t* Load the **current production model** using its alias:\n",
    "\n",
    "\t```python\n",
    "\tmodel_prod = mlflow.pyfunc.load_model(\"models:/nyc-taxi-test@champion\")\n",
    "\t```\n",
    "\n",
    "\t* Load the **candidate model** using another alias or version, for example:\n",
    "\n",
    "\t```python\n",
    "\tmodel_stage = mlflow.pyfunc.load_model(\"models:/nyc-taxi-test@challenger\")\n",
    "\t```\n",
    "\n",
    "\t* Evaluate both models on the test set and compare their RMSE (or another metric).\n",
    "\n",
    "5. **Promote the better model**\n",
    "\t If the challenger outperforms the champion, update the alias assignments.\n",
    "\n",
    "**NOTE**:\n",
    "\n",
    "MLflow’s Model Registry **does not automatically deploy models** when you change an alias.\n",
    "\n",
    "Setting an alias (like `\"champion\"` or `\"challenger\"`) simply labels which version holds that role.\n",
    "\n",
    "Actual deployment to production environments should be handled by your **CI/CD pipeline or orchestration tool** (e.g., GitHub Actions, Airflow, or Azure ML pipelines).\n"
   ]
  },
  {
   "cell_type": "markdown",
   "metadata": {},
   "source": [
    "### Helper Functions\n",
    "\n",
    "- `read_dataframe`: load and clean dataset\n",
    "- `preprocess`: build features with `PU_DO` + `trip_distance`\n",
    "- `test_model`: load by alias and compute RMSE\n"
   ]
  },
  {
   "cell_type": "code",
   "execution_count": 98,
   "metadata": {},
   "outputs": [],
   "source": [
    "from sklearn.metrics import mean_squared_error\n",
    "import pandas as pd\n",
    "import numpy as np\n",
    "\n",
    "def read_dataframe(filename):\n",
    "    # Load the Parquet file (used for faster I/O and smaller size)\n",
    "    df = pd.read_parquet(filename)\n",
    "\n",
    "    # Convert pickup and dropoff columns from string/object to datetime\n",
    "    df.tpep_dropoff_datetime = pd.to_datetime(df.tpep_dropoff_datetime)\n",
    "    df.tpep_pickup_datetime = pd.to_datetime(df.tpep_pickup_datetime)\n",
    "\n",
    "    # Calculate trip duration in minutes\n",
    "    df['duration'] = df.tpep_dropoff_datetime - df.tpep_pickup_datetime\n",
    "    df.duration = df.duration.apply(lambda td: td.total_seconds() / 60)\n",
    "\n",
    "    # Keep only reasonable trips (between 1 and 60 minutes)\n",
    "    df = df[(df.duration >= 1) & (df.duration <= 60)].copy()\n",
    "\n",
    "    # Convert pickup/dropoff location IDs to string for categorical processing\n",
    "    categorical = ['PULocationID', 'DOLocationID']\n",
    "    df[categorical] = df[categorical].astype(str)\n",
    "    \n",
    "    return df\n",
    "\n",
    "\n",
    "def preprocess(df, dv):\n",
    "    # Create a combined pickup–dropoff feature (e.g., \"138_265\")\n",
    "    df['PU_DO'] = df['PULocationID'] + '_' + df['DOLocationID']\n",
    "\n",
    "    # Define which features are categorical and which are numerical\n",
    "    categorical = ['PU_DO']\n",
    "    numerical = ['trip_distance']\n",
    "\n",
    "    # Convert the feature columns into a list of dictionaries\n",
    "    # (each row → a dict of feature_name → value)\n",
    "    data_dicts = df[categorical + numerical].to_dict(orient='records')\n",
    "\n",
    "    # Transform the dictionaries into the same vectorized format used during training\n",
    "    return dv.transform(data_dicts)\n",
    "\n",
    "\n",
    "def test_model(name, alias, X_test, y_test):\n",
    "    # Load the model from the MLflow Model Registry using an alias (e.g., \"champion\", \"challenger\")\n",
    "    model = mlflow.pyfunc.load_model(f\"models:/{name}@{alias}\")\n",
    "\n",
    "    # Generate predictions on the test feature matrix\n",
    "    y_pred = model.predict(X_test)\n",
    "\n",
    "    # Compute the Root Mean Squared Error (RMSE) - a lower value means better performance\n",
    "    rmse = np.sqrt(mean_squared_error(y_test, y_pred))\n",
    "\n",
    "    return {\"rmse\": rmse}"
   ]
  },
  {
   "cell_type": "markdown",
   "metadata": {},
   "source": [
    "### Load Test Data\n",
    "\n",
    "- Use NYC Yellow Taxi March 2021 as test set\n",
    "- Apply the same preprocessing as training\n"
   ]
  },
  {
   "cell_type": "code",
   "execution_count": 88,
   "metadata": {},
   "outputs": [],
   "source": [
    "df = read_dataframe(\"/workspaces/mlops-zoomcamp/data/yellow_tripdata_2021-03.parquet\")"
   ]
  },
  {
   "cell_type": "code",
   "execution_count": null,
   "metadata": {},
   "outputs": [],
   "source": [
    "champion_version = client.get_model_version_by_alias(\n",
    "    name=\"nyc-taxi-test\",\n",
    "    alias=\"champion\"\n",
    ")"
   ]
  },
  {
   "cell_type": "markdown",
   "metadata": {},
   "source": [
    "### Download and Load Preprocessor\n",
    "\n",
    "- Download the `preprocessor` artifact from the run\n",
    "- Load the `DictVectorizer` from the artifact directory\n"
   ]
  },
  {
   "cell_type": "code",
   "execution_count": 89,
   "metadata": {},
   "outputs": [
    {
     "data": {
      "application/vnd.jupyter.widget-view+json": {
       "model_id": "5e8681bc246c4d14a62b4f70170cf68f",
       "version_major": 2,
       "version_minor": 0
      },
      "text/plain": [
       "Downloading artifacts:   0%|          | 0/1 [00:00<?, ?it/s]"
      ]
     },
     "metadata": {},
     "output_type": "display_data"
    },
    {
     "data": {
      "text/plain": [
       "'/workspaces/mlops-zoomcamp/02-experiment-tracking/preprocessor'"
      ]
     },
     "execution_count": 89,
     "metadata": {},
     "output_type": "execute_result"
    }
   ],
   "source": [
    "run_id = \"712e9c4fb3294a75bd60b15f76102062\"\n",
    "client.download_artifacts(run_id=run_id, path='preprocessor', dst_path='.')"
   ]
  },
  {
   "cell_type": "code",
   "execution_count": 90,
   "metadata": {},
   "outputs": [],
   "source": [
    "import pickle\n",
    "\n",
    "with open(\"preprocessor/preprocessor.b\", \"rb\") as f_in:\n",
    "    dv = pickle.load(f_in)"
   ]
  },
  {
   "cell_type": "markdown",
   "metadata": {},
   "source": [
    "### Vectorize Test Features\n",
    "\n",
    "- Transform raw test dataframe using the saved `DictVectorizer`\n"
   ]
  },
  {
   "cell_type": "code",
   "execution_count": 91,
   "metadata": {},
   "outputs": [],
   "source": [
    "X_test = preprocess(df, dv)"
   ]
  },
  {
   "cell_type": "markdown",
   "metadata": {},
   "source": [
    "### Define Target Variable\n",
    "\n",
    "- Predict the `duration` in minutes from the test data\n"
   ]
  },
  {
   "cell_type": "code",
   "execution_count": 92,
   "metadata": {},
   "outputs": [],
   "source": [
    "target = \"duration\"\n",
    "y_test = df[target].values"
   ]
  },
  {
   "cell_type": "markdown",
   "metadata": {},
   "source": [
    "### Set up aliases for model comparison\n",
    "\n",
    "Before testing, let's set up two aliases:\n",
    "- **champion**: The current production model (version 1)\n",
    "- **challenger**: A candidate model to evaluate (you can point this to version 2 or another version)\n"
   ]
  },
  {
   "cell_type": "markdown",
   "metadata": {},
   "source": [
    "### Evaluate Champion Model\n",
    "\n",
    "- Load the `champion` alias and compute RMSE on the test set\n"
   ]
  },
  {
   "cell_type": "code",
   "execution_count": 99,
   "metadata": {},
   "outputs": [
    {
     "name": "stdout",
     "output_type": "stream",
     "text": [
      "CPU times: user 1min 22s, sys: 103 ms, total: 1min 22s\n",
      "Wall time: 21.9 s\n"
     ]
    },
    {
     "data": {
      "text/plain": [
       "{'rmse': np.float64(4.472992694545769)}"
      ]
     },
     "execution_count": 99,
     "metadata": {},
     "output_type": "execute_result"
    }
   ],
   "source": [
    "%time test_model(name=\"nyc-taxi-test\", alias=\"champion\", X_test=X_test, y_test=y_test)"
   ]
  },
  {
   "cell_type": "markdown",
   "metadata": {},
   "source": [
    "### Evaluate Challenger Model\n",
    "\n",
    "- Load the challenger model and evaluate on the same test set\n",
    "- Compare RMSE against the champion\n"
   ]
  },
  {
   "cell_type": "code",
   "execution_count": null,
   "metadata": {},
   "outputs": [
    {
     "name": "stdout",
     "output_type": "stream",
     "text": [
      "CPU times: user 6.94 s, sys: 216 ms, total: 7.16 s\n",
      "Wall time: 7.28 s\n"
     ]
    },
    {
     "data": {
      "text/plain": [
       "{'rmse': 6.881555517147188}"
      ]
     },
     "execution_count": 42,
     "metadata": {},
     "output_type": "execute_result"
    }
   ],
   "source": [
    "%time test_model(name=model_name, stage=\"Staging\", X_test=X_test, y_test=y_test)"
   ]
  },
  {
   "cell_type": "markdown",
   "metadata": {},
   "source": [
    "### Promote the new Champion (update alias)\n",
    "\n",
    "- Point `champion` alias to the best-performing version\n",
    "- This updates the registry label; deployment is handled externally\n"
   ]
  },
  {
   "cell_type": "code",
   "execution_count": null,
   "metadata": {},
   "outputs": [
    {
     "data": {
      "text/plain": [
       "<ModelVersion: creation_timestamp=1652971637398, current_stage='Production', description='The model version 4 was transitioned to Staging on 2022-05-19', last_updated_timestamp=1652972763255, name='nyc-taxi-regressor', run_id='b8904012c84343b5bf8ee72aa8f0f402', run_link=None, source='./mlruns/1/b8904012c84343b5bf8ee72aa8f0f402/artifacts/model', status='READY', status_message=None, tags={}, user_id=None, version=4>"
      ]
     },
     "execution_count": 43,
     "metadata": {},
     "output_type": "execute_result"
    }
   ],
   "source": [
    "# Update the \"champion\" alias to point to the better performing model\n",
    "# This replaces the old stage-based approach (transition_model_version_stage)\n",
    "client.set_registered_model_alias(\n",
    "    name=\"nyc-taxi-test\",\n",
    "    alias=\"champion\",  # Promote this version to champion (production)\n",
    "    version=\"1\"  # Update this to the version number of the better model\n",
    ")"
   ]
  }
 ],
 "metadata": {
  "kernelspec": {
   "display_name": "experiment-tracking",
   "language": "python",
   "name": "python3"
  },
  "language_info": {
   "codemirror_mode": {
    "name": "ipython",
    "version": 3
   },
   "file_extension": ".py",
   "mimetype": "text/x-python",
   "name": "python",
   "nbconvert_exporter": "python",
   "pygments_lexer": "ipython3",
   "version": "3.9.24"
  },
  "orig_nbformat": 4
 },
 "nbformat": 4,
 "nbformat_minor": 2
}
